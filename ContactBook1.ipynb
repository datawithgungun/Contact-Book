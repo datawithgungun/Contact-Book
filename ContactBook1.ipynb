{
 "cells": [
  {
   "cell_type": "code",
   "execution_count": 1,
   "id": "6bff0b8d-900e-4d01-9206-b91bd0067371",
   "metadata": {},
   "outputs": [
    {
     "name": "stdout",
     "output_type": "stream",
     "text": [
      "\n",
      "1.Add Contact\n",
      "2.Display Contact\n",
      "3.Search Contact\n",
      "4.Delete Contact\n",
      "5.Exit\n"
     ]
    },
    {
     "name": "stdin",
     "output_type": "stream",
     "text": [
      "Enter choice: 1\n",
      "Enter name: Gungun\n",
      "Enter phone number: 467879762\n",
      "Enter email: gungun@gmail.com\n"
     ]
    },
    {
     "name": "stdout",
     "output_type": "stream",
     "text": [
      "Contact added successfully!\n",
      "\n",
      "1.Add Contact\n",
      "2.Display Contact\n",
      "3.Search Contact\n",
      "4.Delete Contact\n",
      "5.Exit\n"
     ]
    },
    {
     "name": "stdin",
     "output_type": "stream",
     "text": [
      "Enter choice: 2\n"
     ]
    },
    {
     "name": "stdout",
     "output_type": "stream",
     "text": [
      "Name:gungun,Phone7565748892,Email:gungun@gmail.com\n",
      "Name:Gungun,Phone467879762,Email:gungun@gmail.com\n",
      "\n",
      "1.Add Contact\n",
      "2.Display Contact\n",
      "3.Search Contact\n",
      "4.Delete Contact\n",
      "5.Exit\n"
     ]
    },
    {
     "name": "stdin",
     "output_type": "stream",
     "text": [
      "Enter choice: 3\n",
      "Enter name to search: Khushi\n"
     ]
    },
    {
     "name": "stdout",
     "output_type": "stream",
     "text": [
      "Contact not found.\n",
      "\n",
      "1.Add Contact\n",
      "2.Display Contact\n",
      "3.Search Contact\n",
      "4.Delete Contact\n",
      "5.Exit\n"
     ]
    },
    {
     "name": "stdin",
     "output_type": "stream",
     "text": [
      "Enter choice: 4\n",
      "Enter name to delete: Gungun\n"
     ]
    },
    {
     "name": "stdout",
     "output_type": "stream",
     "text": [
      "Contact deleted successfully!\n",
      "\n",
      "1.Add Contact\n",
      "2.Display Contact\n",
      "3.Search Contact\n",
      "4.Delete Contact\n",
      "5.Exit\n"
     ]
    },
    {
     "name": "stdin",
     "output_type": "stream",
     "text": [
      "Enter choice: 5\n"
     ]
    },
    {
     "name": "stdout",
     "output_type": "stream",
     "text": [
      "Goodbye!\n"
     ]
    }
   ],
   "source": [
    "import mysql.connector\n",
    "#establish connections to MYSQL:\n",
    "def get_connection():\n",
    "    return mysql.connector.connect(\n",
    "        host=\"localhost\",database=\"contact_book\",user=\"root\",password=\"gungun123\")\n",
    "#ADD CONTACT:\n",
    "def add_contact():\n",
    "    name=input(\"Enter name:\")\n",
    "    phone=input(\"Enter phone number:\")\n",
    "    email=input(\"Enter email:\")\n",
    "    conn=get_connection()\n",
    "    cursor=conn.cursor()\n",
    "    cursor.execute(\"INSERT INTO contacts(name,phone,email)VALUES(%s,%s,%s)\",(name,phone,email))\n",
    "    conn.commit()\n",
    "    print(\"Contact added successfully!\")\n",
    "    conn.close()\n",
    "#DIPLAY ALL CONTACTS:\n",
    "def display_contacts():\n",
    "    conn=get_connection()\n",
    "    cursor=conn.cursor()\n",
    "    cursor.execute(\"SELECT name,phone,email FROM contacts\")\n",
    "    for row in cursor.fetchall():\n",
    "        print(f\"Name:{row[0]},Phone{row[1]},Email:{row[2]}\")\n",
    "    conn.close()\n",
    "#SEARCH CONTACTS:\n",
    "def search_contact():\n",
    "    name=input(\"Enter name to search:\")\n",
    "    conn=get_connection()\n",
    "    cursor=conn.cursor()\n",
    "    cursor.execute(\"SELECT*FROM contacts WHERE name=%s\",(name,))\n",
    "    contact=cursor.fetchone()\n",
    "    if contact:\n",
    "        print(f\"Name:{contact[0]},Phone{contact[1]},Email:{contact[2]}\")\n",
    "    else:\n",
    "        print(\"Contact not found.\")\n",
    "    conn.close()\n",
    "#DELETE CONTACTS:\n",
    "def delete_contact():\n",
    "    name=input(\"Enter name to delete:\")\n",
    "    conn=get_connection()\n",
    "    cursor=conn.cursor()\n",
    "    cursor.execute(\"DELETE FROM contacts WHERE name=%s\",(name,))\n",
    "    conn.commit()\n",
    "    print(\"Contact deleted successfully!\")\n",
    "    conn.close()\n",
    "#MAIN MENU:\n",
    "def main():\n",
    "    while True:\n",
    "        print(\"\\n1.Add Contact\\n2.Display Contact\\n3.Search Contact\\n4.Delete Contact\\n5.Exit\")\n",
    "        choice = input(\"Enter choice:\")\n",
    "        if choice == '1':\n",
    "            add_contact()\n",
    "        elif choice == '2':\n",
    "            display_contacts()\n",
    "        elif choice =='3':\n",
    "            search_contact()\n",
    "        elif choice =='4':\n",
    "            delete_contact()\n",
    "        elif choice =='5':\n",
    "            print(\"Goodbye!\")\n",
    "            break\n",
    "        else:\n",
    "             print(\"Invalid choice,try again.\")\n",
    "main()"
   ]
  },
  {
   "cell_type": "code",
   "execution_count": null,
   "id": "f711aa85-b59d-44f7-9a2e-a71446ca1545",
   "metadata": {},
   "outputs": [],
   "source": []
  }
 ],
 "metadata": {
  "kernelspec": {
   "display_name": "Python 3 (ipykernel)",
   "language": "python",
   "name": "python3"
  },
  "language_info": {
   "codemirror_mode": {
    "name": "ipython",
    "version": 3
   },
   "file_extension": ".py",
   "mimetype": "text/x-python",
   "name": "python",
   "nbconvert_exporter": "python",
   "pygments_lexer": "ipython3",
   "version": "3.12.7"
  }
 },
 "nbformat": 4,
 "nbformat_minor": 5
}
